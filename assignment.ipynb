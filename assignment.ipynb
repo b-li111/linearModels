{
  "cells": [
    {
      "cell_type": "markdown",
      "metadata": {
        "id": "view-in-github",
        "colab_type": "text"
      },
      "source": [
        "<a href=\"https://colab.research.google.com/github/b-li111/linearModels/blob/main/assignment.ipynb\" target=\"_parent\"><img src=\"https://colab.research.google.com/assets/colab-badge.svg\" alt=\"Open In Colab\"/></a>"
      ]
    },
    {
      "cell_type": "markdown",
      "id": "e0c7b14a-e5aa-4abc-b48b-b8a9d20dacac",
      "metadata": {
        "id": "e0c7b14a-e5aa-4abc-b48b-b8a9d20dacac"
      },
      "source": [
        "# Assignment: Linear Models\n",
        "## Do three questions.\n",
        "### `! git clone https://github.com/ds4e/linearModels`"
      ]
    },
    {
      "cell_type": "markdown",
      "id": "bf4826b0",
      "metadata": {
        "id": "bf4826b0"
      },
      "source": [
        "**Q1.** Please answer the following questions in your own words.\n",
        "\n",
        "1. What makes a model \"linear\"? \"Linear\" in what?\n",
        "2. How do you interpret the coefficient for a dummy/one-hot-encoded variable? (This is a trick question, and the trick involves how you handle the intercept of the model.)\n",
        "3. Can linear regression be used for classification? Explain why, or why not.\n",
        "4. What are signs that your linear model is over-fitting?\n",
        "5. Clearly explain multi-colinearity using the two-stage least squares technique.\n",
        "6. How can you incorporate nonlinear relationships between your target/response/dependent/outcome variable $y$ and your features/control/response/independent variables $x$ into your analysis?\n",
        "7. What is the interpretation of the intercept? A slope coefficient for a variable? The coefficient for a dummy/one-hot-encoded variable?"
      ]
    },
    {
      "cell_type": "markdown",
      "source": [
        "1. A model is linear if the relationship between a variable and the outcome is a straight line. It's \"linear\" in terms of the coefficients-- the coefficients can only be multiplication division addition subtraction-- no exponents.\n",
        "2. The coefficient for a dummy variable shows the difference between the control group (where the dummy is 0) and the treatment group (where the dummy is 1). With an intercept, teh coefficient shows how different the outcome is *from the untreated category*. Without an intercept, the coefficient simply shows the outcome/result, not the difference between control and treatment.\n",
        "3. No, you'd need logistic regression. Linear regression is for numerical vallues, not categories (for classification). I'm sure you could make it work if you tried.. like create thresholds for categories. But just use logistic regression.\n",
        "4. The main one is if your model performs great on a training set, but isn't very accurate on a test set. That means your model is trained to closely/specifically on the data provided, and can't generalize to new data. Also if the model starts making a super specific pattern instead of a general linear trend, probably overfit. Also if there are a ton of variables/predictors-- might become too specific and lead to noise.  \n",
        "5. Basically it's when two factors are highly correlated, making it hard to distinguish each factor's individual effects for the model. Two-stage least sqaures provides an instrumental variable (related to one of the factors, but not directly tied to outcome). This helps the model figure out the effects of each factor on teh outcome, making it more accurate.\n",
        "6. You can use polynomials (exponents) and logs. You can also multiply factors together to get non-linear relationships.\n",
        "7. The intercept is the predicted value when all the factors are at 0. The slope coefficient shows the impact on the outcome when a predictive factor is increased by a single unit of measurement. The coefficient for a dummy/one-hot-encoded variable shows the differece in outcome between the control (dummy is 0) and treated (dummy is 1) group. A positive coefficient means the predicted outcome of the treated group is higher, and vice versa."
      ],
      "metadata": {
        "id": "2-2jdLL7DPpk"
      },
      "id": "2-2jdLL7DPpk"
    },
    {
      "cell_type": "markdown",
      "id": "aedcd486",
      "metadata": {
        "id": "aedcd486"
      },
      "source": [
        "**Q4.** This question refers to the `heart_hw.csv` data. It contains three variables:\n",
        "\n",
        "  - `y`: Whether the individual survived for three years, coded 0 for death and 1 for survival\n",
        "  - `age`: Patient's age\n",
        "  - `transplant`: `control` for not receiving a transplant and `treatment` for receiving a transplant\n",
        "\n",
        "Since a heart transplant is a dangerous operation and even people who successfully get heart transplants might suffer later complications, we want to look at whether a group of transplant recipients tends to survive longer than a comparison group who does not get the procedure.\n",
        "\n",
        "1. Compute (a) the proportion of people who survive in the control group who do not receive a transplant, and (b) the difference between the proportion of people who survive in the treatment group and the proportion of people who survive in the control group. In a randomized controlled trial, this is called the **average treatment effect**.\n",
        "2. Regress `y` on `transplant` using a linear model with a constant. How does the constant/intercept of the regression and the coefficient on transplant compare to your answers from part 1? Explain the relationship clearly.\n",
        "3. We'd like to include `age` in the regression, since it's reasonable to expect that older patients are less likely to survive an extensive surgery like a heart transplant. Regress `y` on a constant, transplant, and age. How does the intercept change?\n",
        "4. Build a more flexible model that allows for non-linear age effects and interactions between age and treatment. Use a train-test split to validate your model. Estimate your best model, predict the survival probability by age, and plot your results conditional on receiving a transplant and not. Describe what you see.\n",
        "5. Imagine someone suggests using these kinds of models to select who receives organ transplants; perhaps the CDC or NIH starts using a scoring algorithm to decide who is contacted about a potential organ. What are your concerns about how it is built and how it is deployed?"
      ]
    },
    {
      "cell_type": "code",
      "source": [
        "import numpy as np\n",
        "import pandas as pd\n",
        "from sklearn.linear_model import LinearRegression\n",
        "df = pd.read_csv(\"heart_hw.csv\")\n",
        "df.head(20)\n",
        "df['transplant_dummy'] = (df['transplant'] == 'treatment').astype(int)\n",
        "control_survival_rate = df[df['transplant'] == 'control']['y'].mean()\n",
        "treatment_survival_rate = df[df['transplant'] == 'treatment']['y'].mean()\n",
        "print( \"control survival:\", control_survival_rate)\n",
        "print(\"treatment survival:\", treatment_survival_rate)\n",
        "average_treatment_effect = treatment_survival_rate - control_survival_rate\n",
        "print(\"avg treatment effect:\", average_treatment_effect)"
      ],
      "metadata": {
        "id": "Au8-HwvQV9EG",
        "colab": {
          "base_uri": "https://localhost:8080/"
        },
        "outputId": "1bab7996-8941-4974-f745-e5b8df2b1e7d"
      },
      "id": "Au8-HwvQV9EG",
      "execution_count": 29,
      "outputs": [
        {
          "output_type": "stream",
          "name": "stdout",
          "text": [
            "control survival: 0.11764705882352941\n",
            "treatment survival: 0.34782608695652173\n",
            "avg treatment effect: 0.23017902813299232\n"
          ]
        }
      ]
    },
    {
      "cell_type": "code",
      "source": [
        "X = df[['transplant_dummy']]\n",
        "y = df['y']\n",
        "model = LinearRegression().fit(X, y)\n",
        "print(\"intercept:\", model.intercept_)\n",
        "print(\"coefficient on transplant:\", model.coef_[0])"
      ],
      "metadata": {
        "colab": {
          "base_uri": "https://localhost:8080/"
        },
        "id": "aqG1sCiesCWo",
        "outputId": "b15eb158-af5a-4f7a-a9a4-b05cd9a232e6"
      },
      "id": "aqG1sCiesCWo",
      "execution_count": 34,
      "outputs": [
        {
          "output_type": "stream",
          "name": "stdout",
          "text": [
            "intercept: 0.1176470588235293\n",
            "coefficient on transplant: 0.23017902813299249\n"
          ]
        }
      ]
    },
    {
      "cell_type": "markdown",
      "source": [
        "2. The intercept is the same as the control from pt 1, predicting the survival rate, which was about 11%.\n",
        " The transplant coefficient matches the average treatment effect from part 1, increasing the survival rate by about 23%, to an overall treatment survival likelihood of 35ish%. So the transplant coefficient and the average treatment effect are, in essence, the same.   "
      ],
      "metadata": {
        "id": "u92-YrhnzLG8"
      },
      "id": "u92-YrhnzLG8"
    },
    {
      "cell_type": "code",
      "source": [
        "X = df[['transplant_dummy', 'age']]\n",
        "model = LinearRegression().fit(X, y)\n",
        "print(\"intercept:\", model.intercept_)\n",
        "print(\"coefficient transplant:\", model.coef_[0])\n",
        "print(\"coefficient age:\", model.coef_[1])"
      ],
      "metadata": {
        "colab": {
          "base_uri": "https://localhost:8080/"
        },
        "id": "FLNW209hu3lm",
        "outputId": "c3f1c7c6-c528-4cc9-b2ab-2d62a2cb8aa3"
      },
      "id": "FLNW209hu3lm",
      "execution_count": 41,
      "outputs": [
        {
          "output_type": "stream",
          "name": "stdout",
          "text": [
            "intercept: 0.7019569721740947\n",
            "coefficient transplant: 0.2647016865036751\n",
            "coefficient age: -0.013607217160218647\n"
          ]
        }
      ]
    },
    {
      "cell_type": "markdown",
      "source": [
        "3. The intercept goes up significantly, to around .7, because it factors in age, so this is the survival rate for a patient where age = 0. As age increases, that survival rate will decreases since the age coefficient is negative."
      ],
      "metadata": {
        "id": "Wu7kH8ds2du6"
      },
      "id": "Wu7kH8ds2du6"
    },
    {
      "cell_type": "code",
      "source": [
        "from sklearn.model_selection import train_test_split\n",
        "import matplotlib.pyplot as plt\n",
        "\n",
        "X_train, X_test, y_train, y_test = train_test_split(X, y, test_size=0.2, random_state=42)\n",
        "model = LinearRegression().fit(X_train, y_train)\n",
        "df['predicted'] = model.predict(X)\n",
        "\n",
        "plt.scatter(df[df['transplant_dummy'] == 0]['age'],\n",
        "            df[df['transplant_dummy'] == 0]['predicted'],\n",
        "            label='control')\n",
        "\n",
        "plt.scatter(df[df['transplant_dummy'] == 1]['age'],\n",
        "            df[df['transplant_dummy'] == 1]['predicted'],\n",
        "            label='treatment')\n",
        "\n",
        "plt.title('Prediction of Survival Probability by Status Transplant and Age')\n",
        "plt.xlabel('Age')\n",
        "plt.ylabel('Survival Probability (predicted)')\n",
        "plt.legend()\n",
        "plt.show()\n",
        "\n",
        "\n",
        "df['age_transplant_interaction'] = df['age'] * df['transplant_dummy']\n",
        "X = df[['transplant_dummy', 'age', 'age_transplant_interaction']]\n",
        "model = LinearRegression().fit(X, y)\n",
        "print(\"intercept:\", model.intercept_)\n",
        "print(\"coefficient transplant:\", model.coef_[0])\n",
        "print(\"coefficient age:\", model.coef_[1])\n",
        "print(\"coefficient interaction:\", model.coef_[2])"
      ],
      "metadata": {
        "colab": {
          "base_uri": "https://localhost:8080/",
          "height": 543
        },
        "id": "Vj5sbCLgvYXh",
        "outputId": "1e35ba06-ddce-45c6-f475-8c224d22076a"
      },
      "id": "Vj5sbCLgvYXh",
      "execution_count": 47,
      "outputs": [
        {
          "output_type": "display_data",
          "data": {
            "text/plain": [
              "<Figure size 640x480 with 1 Axes>"
            ],
            "image/png": "[encoded data removed]"
          },
          "metadata": {}
        },
        {
          "output_type": "stream",
          "name": "stdout",
          "text": [
            "intercept: 0.35486517529945855\n",
            "coefficient transplant: 0.9077513885685898\n",
            "coefficient age: -0.0055242575069736986\n",
            "coefficient interaction: -0.01459063825685528\n"
          ]
        }
      ]
    },
    {
      "cell_type": "markdown",
      "source": [
        "4. Basically, treatment seems to be more effective for younger patients, and decreases in effectiveness as age increases. The negative interaction term shows that as age increases the benefits of a transplant decrease."
      ],
      "metadata": {
        "id": "VvSmDVM15KEo"
      },
      "id": "VvSmDVM15KEo"
    },
    {
      "cell_type": "markdown",
      "source": [
        "5. While it's important to maximize the benefits of limited heart transplants, which would lead more young people to receive them, it could also be dangerous if ONLY young people suddenly receive them. It's important for all members of a community (city, state, country) to feel cared for in a medical system, not just \"high priority\" individuals. This is also a very limited model-- the model needed would be extraordinarily massive, and there would have to be an incredible amount of caveats-- basically, you'd end up having to go an a case-by-case basis anyways. Also these kinds of models are based on past data. Maybe there were improper practices, historical inequities, etc., that led to these results.. there are just a lotttt of issues with using such models to decide who does and doesn't receive a transplant."
      ],
      "metadata": {
        "id": "qTasdgM76jtU"
      },
      "id": "qTasdgM76jtU"
    },
    {
      "cell_type": "markdown",
      "id": "547d5828",
      "metadata": {
        "id": "547d5828"
      },
      "source": [
        "**Q7.** In class, we showed that for the single linear regression model,\n",
        "\\begin{alignat*}{3}\n",
        "a^* &=& \\bar{y} \\\\\n",
        "b^* &=& \\dfrac{\\sum_{i=1}^N(y_i - \\bar{y})(x_i-\\bar{x})}{\\sum_{i=1}^N (x_i-\\bar{x})^2},\n",
        "\\end{alignat*}\n",
        "\n",
        "1. When will $b^*$ be large or small, depending on the relationship between $X$ and $Y$ and the variance of $X$?\n",
        "2. Suppose you have measurement error in $X$ which artificially inflates its variance (e.g. bad data cleaning). We'll model this as saying the \"real\" value of $X$ for observation $i$ is $z_i$, but we observe $x_i = z_i + n_i$, where $n_i$ is the added noise. Does this affect the intercept of the regression? What happens to the $b^*$ coefficient relative to a noise-less model? How will affect your ability to predict? (This phenomenon is called **attenuation**.)\n",
        "3. Suppose the noise $n_i$ is independent of $z_i$ and $y_i$, so that (approximately)\n",
        "$$\n",
        "\\dfrac{1}{N} \\sum_{i=1}^N (y_i - \\bar{y})(n_i - \\bar{n}) =0, \\quad \\dfrac{1}{N} \\sum_{i=1}^N (z_i - \\bar{z})(n_i - \\bar{n}) =0.\n",
        "$$\n",
        "and that the mean of the bias is zero, so that\n",
        "$$\n",
        "\\dfrac{1}{N} \\sum_{i=1}^N n_i = 0.\n",
        "$$\n",
        "In this case, the noise $n_i$ is zero on average and independent of the values of $x_i$ and $y_i$: It's just measurement error or lazy data cleaning.\n",
        "Explain the intuition of your result.\n",
        "\n",
        "4. How does attenuation factor into the cost-benefit analysis of gathering higher quality data or cleaning it more carefully?"
      ]
    },
    {
      "cell_type": "markdown",
      "source": [
        "1. B depends on the covariance/correlation between X and Y, so the larger the covariance/correlation, the larger the slope. Also the larger the variance for X(aka more widely spread from the mean), the smaller the slope, since it would create a larger denominator.\n",
        "2. B gets smaller (as mentioned in part 1) because the denominator is getting larger with more Ni. It doesn't affect the intercept as much, but if it causes the slope to become smaller, it'll make the intercept shift in the other direction to compensate, btu definitely not as much. Overall it makes predictions less powerful because the model will underestimate the relationship between X and Y-- it's not just overestimation that's dangerous. Underestimation is just as inaccurate.\n",
        "3. Noise is random error/lazy data cleaning -- on average, it balances out. If you're measuring jelly beans in a cup for example, someitmes you count one extra, sometimes you count one less. But on average, the noise/errors cancel out. Noise increases X's variance, making the slope smaller and underestimate the impact of changes to X. The intercept, on the other hand, isn't nearly as affected, since from my understanding, the noise averages to 0. This model will still pick up the general relationships/trends, but a smaller slope might lead it to underestimate the relationship, making the patterns/relations seem smaller over time than they are.\n",
        "4. Attenuation factor means noise weakens the slope, which could underestimate the pattern/relationship. I think this strengthens the case for gathering higher quality data (even if expensive) in instances where tiny changes can have significant impacts. For example, with medical models. if better data can save one extra life, then it seems worth the money to invest. However, if it's something less life-and-death (like the relationship between the sale of iced vs hot coffee beverages and temperature or somethign) it seems less important-- as long as you can identify the overall trend, that's what really matters. So I guess it depends on the stakes involved, and the marginal benefit of collecting more accurate data/reducing noise."
      ],
      "metadata": {
        "id": "XncZLZYR8c0X"
      },
      "id": "XncZLZYR8c0X"
    }
  ],
  "metadata": {
    "colab": {
      "provenance": [],
      "include_colab_link": true
    },
    "kernelspec": {
      "display_name": "Python 3 (ipykernel)",
      "language": "python",
      "name": "python3"
    },
    "language_info": {
      "codemirror_mode": {
        "name": "ipython",
        "version": 3
      },
      "file_extension": ".py",
      "mimetype": "text/x-python",
      "name": "python",
      "nbconvert_exporter": "python",
      "pygments_lexer": "ipython3",
      "version": "3.12.2"
    }
  },
  "nbformat": 4,
  "nbformat_minor": 5
}